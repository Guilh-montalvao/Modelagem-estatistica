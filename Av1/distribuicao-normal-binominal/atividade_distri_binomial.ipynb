{
  "cells": [
    {
      "cell_type": "markdown",
      "metadata": {
        "id": "xxfKsl9-92Ge"
      },
      "source": []
    },
    {
      "cell_type": "markdown",
      "metadata": {
        "id": "uVoYyWGQ94vY"
      },
      "source": [
        "# Estudando distribuições de Probabilidade\n",
        "\n",
        "O objetivos das próximas aulas é entender os conceitos de distribuição de probabilidades, dentre elas, as mais conhecidas **Binomial**, **Normal** e **de Poisson**.\n",
        "\n",
        "Quais as distribuições de probabilidade que vocês conhecem?\n",
        "Qual o motivo/importância de conhecer mais de uma distribuição de probabilidade?\n",
        "Qual a diferença e quando utilizar diferentes distribuições de probabilidade?\n",
        "\n",
        "## Problemas motivadores\n",
        "1) Vocês vão jogar uma moeda viciada, no qual a probabilidade de sair cara é 60%. Jogando a moeda 1000 vezes, quantas vezes espera-se que saia coroa?\n",
        "\n",
        "2) Vocês trabalham no setor de qualidade de uma granja e precisarão analisar dados referentes à perdas por embalagem de 20 unidades. Sabendo que precisa de um intervalo de 95% de confiança para seu estudo e o limite de perdas é 2 ovos por embalagem, calcule a probabilidade de que as cartelas de ovos cheguem com no máximo 2 ovos quebrados.\n",
        "\n",
        "Após os dois cálculos, o que os dois problemas hipotéticos têm em comum?"
      ]
    },
    {
      "cell_type": "code",
      "execution_count": null,
      "metadata": {
        "colab": {
          "base_uri": "https://localhost:8080/",
          "height": 427
        },
        "id": "QMUQirHp-QRl",
        "outputId": "52b5daa4-5ab0-447d-ee33-ac1a4c96cf62"
      },
      "outputs": [],
      "source": [
        "import numpy as np\n",
        "import matplotlib.pyplot as plt\n",
        "from scipy.stats import binom\n",
        "\n",
        "n_jogadas = 1000\n",
        "p_cara = 0.6\n",
        "p_coroa = 1 - p_cara\n",
        "\n",
        "esperado_coroas = n_jogadas * p_coroa\n",
        "print(f\"Problema 1 - Espera-se {esperado_coroas:.0f} coroas em {n_jogadas} jogadas.\")\n",
        "\n",
        "simulacoes = np.random.binomial(n=1, p=p_coroa, size=n_jogadas)\n",
        "total_coroas = np.sum(simulacoes)\n",
        "\n",
        "plt.figure(figsize=(8, 4))\n",
        "plt.hist(simulacoes, bins=2, edgecolor='black', rwidth=0.7, color='red')  # cor vermelha adicionada\n",
        "plt.xticks([0, 1], ['Cara', 'Coroa'])\n",
        "plt.title('Distribuição de Resultados em 1000 Jogadas de Moeda Viciada')\n",
        "plt.xlabel('Resultado')\n",
        "plt.ylabel('Frequência')\n",
        "plt.grid(True)\n",
        "plt.show()\n"
      ]
    },
    {
      "cell_type": "code",
      "execution_count": null,
      "metadata": {
        "colab": {
          "base_uri": "https://localhost:8080/",
          "height": 427
        },
        "id": "nmXUbV12-WDB",
        "outputId": "5314ff76-1dac-4cae-8f83-bf1651b1869b"
      },
      "outputs": [],
      "source": [
        "# 2\n",
        "\n",
        "import numpy as np\n",
        "import matplotlib.pyplot as plt\n",
        "from scipy.stats import binom\n",
        "\n",
        "n_ovos = 20\n",
        "p_quebra = 0.05 #chance de cada ovo estar quebrado é de 5%\n",
        "\n",
        "x = np.arange(0, n_ovos + 1)\n",
        "fmp = binom.pmf(x, n_ovos, p_quebra)#função de massa de probabilidade\n",
        "fda = binom.cdf(2, n_ovos, p_quebra)#função de distribuição acumulada\n",
        "\n",
        "print(f\"Problema 2 - Probabilidade de até 2 ovos quebrados: {fda*100:.2f}%\")\n",
        "\n",
        "plt.figure(figsize=(8, 4))\n",
        "plt.bar(x, fmp, color='red', edgecolor='black')\n",
        "\n",
        "plt.xticks(x[x <= 5])\n",
        "\n",
        "plt.xlim(-0.5, 5.5)\n",
        "plt.ylim(0, max(fmp[:4]) * 1.2)\n",
        "\n",
        "plt.axvline(x=2.5, color='green', linestyle='--', label='2 ovos')\n",
        "plt.fill_between(x[:3], fmp[:3], color='#7E8392', alpha=0.9, label='Ovos quebrados ≤ 2')\n",
        "\n",
        "plt.title('Distribuição de Quebras de Ovos por Embalagem (n=20, p=0.05)')\n",
        "plt.xlabel('Nº de Ovos Quebrados')\n",
        "plt.ylabel('Probabilidade')\n",
        "plt.legend()\n",
        "plt.grid(True)\n",
        "plt.show()\n"
      ]
    }
  ],
  "metadata": {
    "colab": {
      "provenance": []
    },
    "kernelspec": {
      "display_name": "Python 3",
      "name": "python3"
    },
    "language_info": {
      "name": "python"
    }
  },
  "nbformat": 4,
  "nbformat_minor": 0
}
