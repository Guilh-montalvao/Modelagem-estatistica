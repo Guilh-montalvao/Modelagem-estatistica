{
  "nbformat": 4,
  "nbformat_minor": 0,
  "metadata": {
    "colab": {
      "provenance": []
    },
    "kernelspec": {
      "name": "python3",
      "display_name": "Python 3"
    },
    "language_info": {
      "name": "python"
    }
  },
  "cells": [
    {
      "cell_type": "code",
      "execution_count": null,
      "metadata": {
        "id": "RZkSIwCwvsum"
      },
      "outputs": [],
      "source": []
    },
    {
      "cell_type": "markdown",
      "source": [
        "# Estudando distribuições de Normal\n",
        "\n",
        "O objetivos das próximas aulas é entender os conceitos de distribuição de probabilidades, dentre elas, as mais conhecidas **Binomial**, **Normal** e **de Poisson**.\n",
        "\n",
        "## Problemas motivadores\n",
        "\n",
        "1) Em uma prova de 10 questões cada acerto vale 1 ponto. A média de uma turma é 6,7 e o desvio padrão 1,2. Admitindo uma distribuição normal, determine:\n",
        "\n",
        "a) a porcentagem de estudantes que obtiveram 6 pontos;\n",
        "\n",
        "b) o grau máximo dos 10% mais baixos da classe;\n",
        "\n",
        "c) o grau mínimo dos 10% mais altos da classe.\n",
        "\n",
        "2) Sabendo que a média de peso de recém nascidos é de 3kg com um desvio padrão de 1Kg, Determine a probabilidade de termos bêbes abaixo de 2kg e, assim antecipar e planejar as necessidades de atendimento especial dos recém nascidos (alimentação, maior período de internação etc.). Sabendo que um hospital realiza cerca de 20 partos por dia, quantos leitos precisam ser reservados para atendimento a esses casos? Faça um histograma das probabilidades de nascimentos (X=1, 2, 3, ...)."
      ],
      "metadata": {
        "id": "DyPDvRpb8B2m"
      }
    },
    {
      "cell_type": "code",
      "source": [],
      "metadata": {
        "id": "eX2aXl4-8Dr0"
      },
      "execution_count": null,
      "outputs": []
    },
    {
      "cell_type": "markdown",
      "source": [
        "A forma da curva gerada não se assemelha muito a uma distribuição normal, pois estamos lidando com um número reduzido de dados (apenas 10 amostras), o que faz com que o histograma fique instável e sujeito a flutuações aleatórias.\n",
        "\n",
        "Número de questões: 10\n",
        "\n",
        "Média da turma: 6,7\n",
        "\n",
        "Desvio padrão: 1,2"
      ],
      "metadata": {
        "id": "oBkxQlsc8MJ1"
      }
    },
    {
      "cell_type": "code",
      "source": [
        "from scipy.stats import norm\n",
        "\n",
        "# Dados\n",
        "media = 6.7\n",
        "desvio_padrao = 1.2\n",
        "\n",
        "# Limites com correção de continuidade\n",
        "lim_inf = 5.5\n",
        "lim_sup = 6.5\n",
        "\n",
        "# Cálculo dos z-scores\n",
        "z_inf = (lim_inf - media) / desvio_padrao\n",
        "z_sup = (lim_sup - media) / desvio_padrao\n",
        "\n",
        "# Cálculo da probabilidade entre os dois z-scores\n",
        "prob = norm.cdf(z_sup) - norm.cdf(z_inf)\n",
        "porcentagem = prob * 100\n",
        "\n",
        "print(f\"Aproximadamente {porcentagem:.2f}% dos estudantes tiraram nota 6.\")"
      ],
      "metadata": {
        "colab": {
          "base_uri": "https://localhost:8080/"
        },
        "id": "76h1KP4a8V-0",
        "outputId": "780d1e58-4728-411c-a201-074bf01b463e"
      },
      "execution_count": 1,
      "outputs": [
        {
          "output_type": "stream",
          "name": "stdout",
          "text": [
            "Aproximadamente 27.52% dos estudantes tiraram nota 6.\n"
          ]
        }
      ]
    },
    {
      "cell_type": "code",
      "source": [
        "# b) o grau máximo dos 10% mais baixos da classe\n",
        "\n",
        "from scipy.stats import norm\n",
        "\n",
        "media = 6.7\n",
        "desvio_padrao = 1.2\n",
        "\n",
        "# Percentil 10 (10% mais baixos)\n",
        "percentil_10 = norm.ppf(0.10, media, desvio_padrao)#ppf -> função quantil\n",
        "\n",
        "print(f\"O grau máximo dos 10% mais baixos da classe é aproximadamente {percentil_10:.2f}\")"
      ],
      "metadata": {
        "colab": {
          "base_uri": "https://localhost:8080/"
        },
        "id": "aLRQb9jA8fpw",
        "outputId": "e83ae4b7-daec-4b8f-d22b-8e10febbcdee"
      },
      "execution_count": 2,
      "outputs": [
        {
          "output_type": "stream",
          "name": "stdout",
          "text": [
            "O grau máximo dos 10% mais baixos da classe é aproximadamente 5.16\n"
          ]
        }
      ]
    },
    {
      "cell_type": "code",
      "source": [
        "# c) o grau mínimo dos 10% mais altos da classe.\n",
        "\n",
        "from scipy.stats import norm\n",
        "\n",
        "media = 6.7\n",
        "desvio_padrao = 1.2\n",
        "\n",
        "# Percentil 90 (10% mais altos)\n",
        "percentil_90 = norm.ppf(0.90, media, desvio_padrao)\n",
        "\n",
        "print(f\"O grau mínimo dos 10% mais altos da classe é aproximadamente {percentil_90:.2f}\")\n"
      ],
      "metadata": {
        "colab": {
          "base_uri": "https://localhost:8080/"
        },
        "id": "-sArLN_b8jNw",
        "outputId": "75a8a908-946d-442a-d067-6a9cd6f837b7"
      },
      "execution_count": 3,
      "outputs": [
        {
          "output_type": "stream",
          "name": "stdout",
          "text": [
            "O grau mínimo dos 10% mais altos da classe é aproximadamente 8.24\n"
          ]
        }
      ]
    },
    {
      "cell_type": "code",
      "source": [
        "import numpy as np\n",
        "import matplotlib.pyplot as plt\n",
        "from scipy.stats import norm, binom\n",
        "\n",
        "# Parâmetros da distribuição normal (peso dos bebês)\n",
        "media_peso = 3  # em kg\n",
        "desvio_peso = 1\n",
        "\n",
        "# Probabilidade de um bebê nascer com menos de 2kg\n",
        "p_baixo_peso = norm.cdf(2, loc=media_peso, scale=desvio_peso)\n",
        "print(f\"Probabilidade de um bebê nascer abaixo de 2kg: {p_baixo_peso:.4f} ({p_baixo_peso * 100:.2f}%)\")\n",
        "\n",
        "# Reservar leitos para cobrir 95% dos dias (percentil 95 da binomial)\n",
        "n_partos = 20\n",
        "leitos_reservados = binom.ppf(0.95, n=n_partos, p=p_baixo_peso)\n",
        "print(f\"Leitos que devem ser reservados (95% dos dias): {int(leitos_reservados)}\")\n",
        "\n",
        "# Distribuição binomial: número de bebês abaixo de 2kg em 20 partos\n",
        "x = np.arange(0, n_partos + 1)\n",
        "probabilidades = binom.pmf(x, n=n_partos, p=p_baixo_peso)\n",
        "\n",
        "# Gráfico em vermelho\n",
        "plt.bar(x, probabilidades, color='red', edgecolor='darkred')\n",
        "plt.title('Distribuição de bebês abaixo de 2kg em 20 partos diários')\n",
        "plt.xlabel('Número de bebês abaixo de 2kg')\n",
        "plt.ylabel('Probabilidade')\n",
        "plt.grid(axis='y')\n",
        "plt.tight_layout()\n",
        "plt.show()\n"
      ],
      "metadata": {
        "colab": {
          "base_uri": "https://localhost:8080/",
          "height": 522
        },
        "id": "n-QBttsM8oFt",
        "outputId": "d1f82a75-af08-4de8-c068-1bce3154b133"
      },
      "execution_count": 4,
      "outputs": [
        {
          "output_type": "stream",
          "name": "stdout",
          "text": [
            "Probabilidade de um bebê nascer abaixo de 2kg: 0.1587 (15.87%)\n",
            "Leitos que devem ser reservados (95% dos dias): 6\n"
          ]
        },
        {
          "output_type": "display_data",
          "data": {
            "text/plain": [
              "<Figure size 640x480 with 1 Axes>"
            ],
            "image/png": "[encoded data removed]"
          },
          "metadata": {}
        }
      ]
    },
    {
      "cell_type": "code",
      "source": [],
      "metadata": {
        "id": "7_cQv_1F8TXs"
      },
      "execution_count": null,
      "outputs": []
    }
  ]
}